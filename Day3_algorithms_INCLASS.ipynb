{
 "cells": [
  {
   "cell_type": "markdown",
   "metadata": {},
   "source": [
    "# Algorithms, Binary Search & Linked Lists"
   ]
  },
  {
   "cell_type": "markdown",
   "metadata": {},
   "source": [
    "## Tasks Today:\n",
    " \n",
    "1) <b>In-Place Algorithms</b> <br>\n",
    " &nbsp;&nbsp;&nbsp;&nbsp; a) Syntax <br>\n",
    " &nbsp;&nbsp;&nbsp;&nbsp; a) Out of Place Algorithm <br>\n",
    " &nbsp;&nbsp;&nbsp;&nbsp; b) In-Class Exercise #1 <br>\n",
    "2) <b>Two Pointers</b> <br>\n",
    "3) <b>Linked Lists</b> <br>\n",
    "4) <b>Merge Sort</b> <br>\n",
    " &nbsp;&nbsp;&nbsp;&nbsp; a) Video on Algorithms <br>\n",
    " &nbsp;&nbsp;&nbsp;&nbsp; b) How it Works <br>\n",
    "5) <b>Exercises</b> <br>\n",
    " &nbsp;&nbsp;&nbsp;&nbsp; a) Exercise #1 - Reverse a List in Place Using an In-Place Algorithm <br>\n",
    " &nbsp;&nbsp;&nbsp;&nbsp; b) Exercise #2 - Find Distinct Words <br>\n",
    " &nbsp;&nbsp;&nbsp;&nbsp; c) Exercise #3 - Write a program to implement a Linear Search Algorithm. <br>"
   ]
  },
  {
   "cell_type": "markdown",
   "metadata": {},
   "source": [
    "## In-Place Algorithms"
   ]
  },
  {
   "cell_type": "markdown",
   "metadata": {},
   "source": [
    "#### Syntax"
   ]
  },
  {
   "cell_type": "code",
   "execution_count": 5,
   "metadata": {},
   "outputs": [
    {
     "name": "stdout",
     "output_type": "stream",
     "text": [
      "Before swap: [1, 11, 22, 34]\n",
      "after swap: [1, 34, 22, 11]\n"
     ]
    }
   ],
   "source": [
    "# swap algarithm\n",
    "def swap(nums, i1, i2):\n",
    "    temp = nums[i1]\n",
    "    nums[i1] = nums[i2]\n",
    "    nums[i2] = temp\n",
    "    \n",
    "l1=[1, 11, 22, 34]\n",
    "print(f'Before swap: {l1}')\n",
    "swap(l1, 1, 3)\n",
    "print(f'after swap: {l1}')\n",
    "    "
   ]
  },
  {
   "cell_type": "markdown",
   "metadata": {},
   "source": [
    "#### Out of Place Algorithm"
   ]
  },
  {
   "cell_type": "code",
   "execution_count": null,
   "metadata": {},
   "outputs": [],
   "source": [
    "\n"
   ]
  },
  {
   "cell_type": "markdown",
   "metadata": {},
   "source": [
    "#### In-Class Exercise #1 <br>\n",
    "<p>Write a function that takes in four arguments (list, index1, index2, index3), and swaps those three positions in the list passed in.</p>"
   ]
  },
  {
   "cell_type": "code",
   "execution_count": 10,
   "metadata": {},
   "outputs": [
    {
     "name": "stdout",
     "output_type": "stream",
     "text": [
      "[2, 4, 3, 10, 4, 8, 6]\n"
     ]
    }
   ],
   "source": [
    "l_1 = [10, 4, 3, 8, 4, 2, 6]\n",
    "\n",
    "def swap(l1, index1, index2, index3):\n",
    "        l1[index1],l1[index2], l1[index3] = l1[index3], l1[index1], l1[index2]\n",
    "swap(l_1, 0, 3, 5)\n",
    "print(l_1)\n",
    "    \n",
    "    "
   ]
  },
  {
   "cell_type": "markdown",
   "metadata": {},
   "source": [
    "## Two Pointers"
   ]
  },
  {
   "cell_type": "markdown",
   "metadata": {},
   "source": [
    "#### Syntax"
   ]
  },
  {
   "cell_type": "code",
   "execution_count": 14,
   "metadata": {},
   "outputs": [
    {
     "name": "stdout",
     "output_type": "stream",
     "text": [
      "[40, 30, 20, 10, 5, 4, 3, 2, 1]\n"
     ]
    }
   ],
   "source": [
    "def swap(nums, i1, i2):\n",
    "    nums[i1], nums[i2] = nums[i2], nums[i1]\n",
    "#pointer\n",
    "def reverseTwoPointer(nums):\n",
    "    left = 0\n",
    "    right = len(nums)-1\n",
    "    \n",
    "    #when do our pointers move/ stop moving\n",
    "    while left < right:\n",
    "        swap(nums, left, right)    \n",
    "             \n",
    "        left += 1\n",
    "        right -= 1\n",
    "        \n",
    "list2 = [1,2,3,4,5,10,20,30,40]\n",
    "\n",
    "reverseTwoPointer(list2)\n",
    "\n",
    "print(list2)\n",
    "        \n",
    "    "
   ]
  },
  {
   "cell_type": "markdown",
   "metadata": {},
   "source": [
    "#### Video of Algorithms <br>\n",
    "<p>Watch the video about algorithms.</p>\n",
    "\n",
    "https://www.youtube.com/watch?v=Q9HjeFD62Uk\n",
    "\n",
    "https://www.youtube.com/watch?v=kPRA0W1kECg\n",
    "\n",
    "https://www.youtube.com/watch?v=ZZuD6iUe3Pc"
   ]
  },
  {
   "cell_type": "markdown",
   "metadata": {},
   "source": [
    "# Sorting Algorithms"
   ]
  },
  {
   "cell_type": "markdown",
   "metadata": {},
   "source": [
    "#### Bubble Sort\n",
    "\n",
    "Worst Case: O(n^2) Time - O(1) Space"
   ]
  },
  {
   "cell_type": "code",
   "execution_count": 21,
   "metadata": {},
   "outputs": [
    {
     "name": "stdout",
     "output_type": "stream",
     "text": [
      "[1, 4, 9, 20, 74, 91, 42, 99, 100]\n"
     ]
    }
   ],
   "source": [
    "def swap(nums, i1, i2):\n",
    "    nums[i1], nums[i2] = nums[i2], nums[i1]\n",
    "def bubblesort(nums):\n",
    "    isSorted = False\n",
    "    count = 0\n",
    "    while not isSorted:\n",
    "        isSorted = True\n",
    "    for i in range(len(nums)-1-count):\n",
    "        if nums[i] > nums[i+1]:\n",
    "            swap(nums, i, i+1)\n",
    "        \n",
    "l1 = [1, 4, 9, 74, 20, 100, 91, 42, 99]\n",
    "bubblesort(l1)\n",
    "print(l1)"
   ]
  },
  {
   "cell_type": "markdown",
   "metadata": {},
   "source": [
    "##### Insertion Sort\n",
    "\n",
    "Worst Case: O(n^2) time - O(1)space"
   ]
  },
  {
   "cell_type": "code",
   "execution_count": 22,
   "metadata": {},
   "outputs": [
    {
     "name": "stdout",
     "output_type": "stream",
     "text": [
      "[1, 4, 9, 20, 42, 74, 91, 99, 100]\n"
     ]
    }
   ],
   "source": [
    "def swap(nums, i1, i2):\n",
    "    nums[i1], nums[i2] = nums[i2], nums[i1]\n",
    "    \n",
    "def insertionSort(nums):\n",
    "    for i in range(1, len(nums)):\n",
    "        j = i\n",
    "        while j > 0 and nums[j] < nums[j-1]:\n",
    "            swap(nums, j, j-1)\n",
    "            j -= 1\n",
    "l1 = [1, 4, 9, 74, 20, 100, 91, 42, 99]\n",
    "insertionSort(l1)\n",
    "print(l1)\n",
    "            "
   ]
  },
  {
   "cell_type": "markdown",
   "metadata": {},
   "source": [
    "## Merge Sort"
   ]
  },
  {
   "cell_type": "markdown",
   "metadata": {},
   "source": [
    "#### How it Works"
   ]
  },
  {
   "cell_type": "code",
   "execution_count": 28,
   "metadata": {},
   "outputs": [
    {
     "name": "stdout",
     "output_type": "stream",
     "text": [
      "Splitting... [15, 13, 7, 13, 15]\n",
      "Splitting... [15, 13]\n",
      "Splitting... [15]\n",
      "Merging:  [15]\n",
      "Splitting... [13]\n",
      "Merging:  [13]\n",
      "Merging:  [13, 15]\n",
      "Splitting... [7, 13, 15]\n",
      "Splitting... [7]\n",
      "Merging:  [7]\n",
      "Splitting... [13, 15]\n",
      "Splitting... [13]\n",
      "Merging:  [13]\n",
      "Splitting... [15]\n",
      "Merging:  [15]\n",
      "Merging:  [13, 15]\n",
      "Merging:  [7, 13, 15]\n",
      "Merging:  [7, 13, 13, 15, 15]\n"
     ]
    },
    {
     "data": {
      "text/plain": [
       "[7, 13, 13, 15, 15]"
      ]
     },
     "execution_count": 28,
     "metadata": {},
     "output_type": "execute_result"
    }
   ],
   "source": [
    "# Step 1: Split everything into it's own group\n",
    "# Step 2: From left to right merge two groups together\n",
    "# Step 3: While merging, place each item in the correct position within the merged group\n",
    "# Step 4: Continue Steps 3-4 until one group is left\n",
    "\n",
    "from random import randint\n",
    "# used to generate a random list of 5 numbers from 0 to 20\n",
    "nums = [randint(0,20) for i in range(5)]\n",
    "\n",
    "# write merge sort below\n",
    "def mergeSort(alist):\n",
    "    print(\"Splitting...\", alist)\n",
    "    \n",
    "    # Step 1: Divide the array into equal parts (as much as possible)\n",
    "    if len(alist) > 1:\n",
    "        mid = len(alist) // 2\n",
    "        lefthalf = alist[:mid]\n",
    "        righthalf = alist[mid:]\n",
    "        \n",
    "        # recursively call mergeSort to perform splits if need\n",
    "        # Then merge once splits are done\n",
    "        mergeSort(lefthalf)\n",
    "        mergeSort(righthalf)\n",
    "        \n",
    "        # index pointers for our list\n",
    "        i = 0 # pointer for left half\n",
    "        j = 0 # pointer for right half\n",
    "        k = 0 # pointer for main array\n",
    "        \n",
    "        # Step 2: Compare the lefthalf and righthalf\n",
    "        while i < len(lefthalf) and j < len(righthalf):\n",
    "            if lefthalf[i] < righthalf[j]:\n",
    "                alist[k] = lefthalf[i]\n",
    "                i = i + 1\n",
    "            else:\n",
    "                alist[k] = righthalf[j]\n",
    "                j = j + 1\n",
    "            k = k + 1\n",
    "        # Step 3: While merging place items in correct position\n",
    "        while i < len(lefthalf):\n",
    "            alist[k] = lefthalf[i]\n",
    "            i = i + 1\n",
    "            k = k + 1\n",
    "        while j < len(righthalf):\n",
    "            alist[k] = righthalf[j]\n",
    "            j = j + 1\n",
    "            k = k + 1\n",
    "    print(\"Merging: \", alist)\n",
    "    return alist\n",
    "\n",
    "mergeSort(nums)"
   ]
  },
  {
   "cell_type": "markdown",
   "metadata": {},
   "source": [
    "# Binary Search\n",
    "\n",
    "The Binary Search algorithm works by finding the number in the middle of a given array and comparing it to the target. Given that the array is sorted\n",
    "\n",
    "* The worst case run time for this algorithm is `O(log(n))`"
   ]
  },
  {
   "cell_type": "code",
   "execution_count": null,
   "metadata": {},
   "outputs": [],
   "source": []
  },
  {
   "cell_type": "markdown",
   "metadata": {},
   "source": [
    "# Exercises"
   ]
  },
  {
   "cell_type": "markdown",
   "metadata": {},
   "source": [
    "### Exercise #1 <br>\n",
    "<p>Reverse the list below in-place using an in-place algorithm.<br>For extra credit: Reverse the strings at the same time.</p>"
   ]
  },
  {
   "cell_type": "code",
   "execution_count": null,
   "metadata": {},
   "outputs": [],
   "source": [
    "words = ['this' , 'is', 'a', 'sentence', '.']\n"
   ]
  },
  {
   "cell_type": "markdown",
   "metadata": {},
   "source": [
    "### Exercise #2 <br>\n",
    "<p>Create a function that counts how many distinct words are in the string below, then outputs a dictionary with the words as the key and the value as the amount of times that word appears in the string.<br>Should output:<br>{'a': 5,<br>\n",
    " 'abstract': 1,<br>\n",
    " 'an': 3,<br>\n",
    " 'array': 2, ... etc...</p>"
   ]
  },
  {
   "cell_type": "code",
   "execution_count": null,
   "metadata": {},
   "outputs": [],
   "source": [
    "a_text = 'In computing, a hash table hash map is a data structure which implements an associative array abstract data type, a structure that can map keys to values. A hash table uses a hash function to compute an index into an array of buckets or slots from which the desired value can be found'\n",
    "\n"
   ]
  },
  {
   "cell_type": "markdown",
   "metadata": {},
   "source": [
    "## Exercise #3\n",
    "\n",
    "Write a program to implement a Linear Search Algorithm. Also in a comment, write the Time Complexity of the following algorithm.\n",
    "\n",
    "#### Hint: Linear Searching will require searching a list for a given number. "
   ]
  },
  {
   "cell_type": "code",
   "execution_count": null,
   "metadata": {},
   "outputs": [],
   "source": []
  }
 ],
 "metadata": {
  "kernelspec": {
   "display_name": "Python 3 (ipykernel)",
   "language": "python",
   "name": "python3"
  },
  "language_info": {
   "codemirror_mode": {
    "name": "ipython",
    "version": 3
   },
   "file_extension": ".py",
   "mimetype": "text/x-python",
   "name": "python",
   "nbconvert_exporter": "python",
   "pygments_lexer": "ipython3",
   "version": "3.9.12"
  }
 },
 "nbformat": 4,
 "nbformat_minor": 2
}
